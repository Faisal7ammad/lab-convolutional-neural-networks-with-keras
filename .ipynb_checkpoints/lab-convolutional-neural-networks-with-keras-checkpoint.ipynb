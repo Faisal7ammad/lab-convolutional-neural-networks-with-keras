{
 "cells": [
  {
   "cell_type": "markdown",
   "metadata": {
    "toc": true
   },
   "source": [
    "<h1>Table of Contents<span class=\"tocSkip\"></span></h1>\n",
    "<div class=\"toc\"><ul class=\"toc-item\"><li><span><a href=\"#Convolutional-Neural-Networks-with-Keras\" data-toc-modified-id=\"Convolutional-Neural-Networks-with-Keras-1\"><span class=\"toc-item-num\">1&nbsp;&nbsp;</span>Convolutional Neural Networks with Keras</a></span><ul class=\"toc-item\"><li><span><a href=\"#Objective-for-this-Notebook\" data-toc-modified-id=\"Objective-for-this-Notebook-1.1\"><span class=\"toc-item-num\">1.1&nbsp;&nbsp;</span>Objective for this Notebook</a></span></li><li><span><a href=\"#----\n",
    "\" data-toc-modified-id=\"----\n",
    "-1.2\"><span class=\"toc-item-num\">1.2&nbsp;&nbsp;</span>    \n",
    "</a></span><ul class=\"toc-item\"><li><ul class=\"toc-item\"><li><span><a href=\"#-1.-How-to-use-the-Keras-library-to-build-convolutional-neural-networks.\" data-toc-modified-id=\"-1.-How-to-use-the-Keras-library-to-build-convolutional-neural-networks.-1.2.0.1\"><span class=\"toc-item-num\">1.2.0.1&nbsp;&nbsp;</span> 1. How to use the Keras library to build convolutional neural networks.</a></span></li><li><span><a href=\"#-2.-Convolutional-Neural-Network-with-One-Convolutional-and-Pooling-Layers.\" data-toc-modified-id=\"-2.-Convolutional-Neural-Network-with-One-Convolutional-and-Pooling-Layers.-1.2.0.2\"><span class=\"toc-item-num\">1.2.0.2&nbsp;&nbsp;</span> 2. Convolutional Neural Network with One Convolutional and Pooling Layers.</a></span></li><li><span><a href=\"#-3.-Convolutional-Neural-Network-with-Two-Convolutional-and-Pooling-Layers.\" data-toc-modified-id=\"-3.-Convolutional-Neural-Network-with-Two-Convolutional-and-Pooling-Layers.-1.2.0.3\"><span class=\"toc-item-num\">1.2.0.3&nbsp;&nbsp;</span> 3. Convolutional Neural Network with Two Convolutional and Pooling Layers.</a></span></li></ul></li></ul></li></ul></li><li><span><a href=\"#Table-of-Contents\" data-toc-modified-id=\"Table-of-Contents-2\"><span class=\"toc-item-num\">2&nbsp;&nbsp;</span>Table of Contents</a></span></li><li><span><a href=\"#Import-Keras-and-Packages\" data-toc-modified-id=\"Import-Keras-and-Packages-3\"><span class=\"toc-item-num\">3&nbsp;&nbsp;</span>Import Keras and Packages</a></span></li><li><span><a href=\"#Convolutional-Layer-with-One-set-of-convolutional-and-pooling-layers\" data-toc-modified-id=\"Convolutional-Layer-with-One-set-of-convolutional-and-pooling-layers-4\"><span class=\"toc-item-num\">4&nbsp;&nbsp;</span>Convolutional Layer with One set of convolutional and pooling layers</a></span></li><li><span><a href=\"#Convolutional-Layer-with-two-sets-of-convolutional-and-pooling-layers\" data-toc-modified-id=\"Convolutional-Layer-with-two-sets-of-convolutional-and-pooling-layers-5\"><span class=\"toc-item-num\">5&nbsp;&nbsp;</span>Convolutional Layer with two sets of convolutional and pooling layers</a></span><ul class=\"toc-item\"><li><span><a href=\"#Thank-you-for-completing-this-lab!\" data-toc-modified-id=\"Thank-you-for-completing-this-lab!-5.1\"><span class=\"toc-item-num\">5.1&nbsp;&nbsp;</span>Thank you for completing this lab!</a></span></li></ul></li></ul></div>"
   ]
  },
  {
   "cell_type": "markdown",
   "metadata": {},
   "source": [
    "In this lab, we will learn how to use the Keras library to build convolutional neural networks. We will also use the popular MNIST dataset and we will compare our results to using a conventional neural network.\n"
   ]
  },
  {
   "cell_type": "markdown",
   "metadata": {},
   "source": [
    "<h2>Convolutional Neural Networks with Keras</h2>\n",
    "\n",
    "<h3>Objective for this Notebook<h3>    \n",
    "<h5> 1. How to use the Keras library to build convolutional neural networks.</h5>\n",
    "<h5> 2. Convolutional Neural Network with One Convolutional and Pooling Layers.</h5>\n",
    "<h5> 3. Convolutional Neural Network with Two Convolutional and Pooling Layers.</h5>\n",
    "\n"
   ]
  },
  {
   "cell_type": "markdown",
   "metadata": {},
   "source": [
    "## Table of Contents\n",
    "\n",
    "<div class=\"alert alert-block alert-info\" style=\"margin-top: 20px\">\n",
    "\n",
    "<font size = 3>\n",
    "      \n",
    "1. <a href=\"#item41\">Import Keras and Packages</a>   \n",
    "2. <a href=\"#item42\">Convolutional Neural Network with One Convolutional and Pooling Layers</a>  \n",
    "3. <a href=\"#item43\">Convolutional Neural Network with Two Convolutional and Pooling Layers</a>  \n",
    "\n",
    "</font>\n",
    "</div>\n"
   ]
  },
  {
   "cell_type": "markdown",
   "metadata": {},
   "source": [
    "<a id='item41'></a>\n"
   ]
  },
  {
   "cell_type": "markdown",
   "metadata": {},
   "source": [
    "## Import Keras and Packages\n"
   ]
  },
  {
   "cell_type": "markdown",
   "metadata": {},
   "source": [
    "Let's start by importing the keras libraries and the packages that we would need to build a neural network.\n"
   ]
  },
  {
   "cell_type": "code",
   "execution_count": 1,
   "metadata": {
    "ExecuteTime": {
     "end_time": "2024-05-28T20:38:21.292335Z",
     "start_time": "2024-05-28T20:38:08.082111Z"
    }
   },
   "outputs": [],
   "source": [
    "import os\n",
    "os.environ['TF_CPP_MIN_LOG_LEVEL'] = '2'\n",
    "\n",
    "import keras\n",
    "from keras.models import Sequential\n",
    "from keras.layers import Dense\n",
    "from keras.utils import to_categorical"
   ]
  },
  {
   "cell_type": "markdown",
   "metadata": {},
   "source": [
    "When working with convolutional neural networks in particular, we will need additional packages.\n"
   ]
  },
  {
   "cell_type": "code",
   "execution_count": 3,
   "metadata": {
    "ExecuteTime": {
     "end_time": "2024-05-28T20:38:54.836210Z",
     "start_time": "2024-05-28T20:38:54.830530Z"
    }
   },
   "outputs": [],
   "source": [
    "from keras.layers import Conv2D\n",
    "from keras.layers import MaxPooling2D\n",
    "from keras.layers import Flatten"
   ]
  },
  {
   "cell_type": "markdown",
   "metadata": {},
   "source": [
    "<a id='item42'></a>\n"
   ]
  },
  {
   "cell_type": "markdown",
   "metadata": {},
   "source": [
    "## Convolutional Layer with One set of convolutional and pooling layers\n"
   ]
  },
  {
   "cell_type": "code",
   "execution_count": 4,
   "metadata": {
    "ExecuteTime": {
     "end_time": "2024-05-28T20:39:01.367841Z",
     "start_time": "2024-05-28T20:39:00.970977Z"
    }
   },
   "outputs": [],
   "source": [
    "# import data\n",
    "from keras.datasets import mnist\n",
    "\n",
    "# load data\n",
    "(X_train, y_train), (X_test, y_test) = mnist.load_data()\n",
    "\n",
    "# reshape to be [samples][pixels][width][height]\n",
    "X_train = X_train.reshape(X_train.shape[0], 28, 28, 1).astype('float32')\n",
    "X_test = X_test.reshape(X_test.shape[0], 28, 28, 1).astype('float32')"
   ]
  },
  {
   "cell_type": "markdown",
   "metadata": {},
   "source": [
    "Let's normalize the pixel values to be between 0 and 1\n"
   ]
  },
  {
   "cell_type": "code",
   "execution_count": 5,
   "metadata": {
    "ExecuteTime": {
     "end_time": "2024-05-28T20:39:03.981843Z",
     "start_time": "2024-05-28T20:39:03.821188Z"
    }
   },
   "outputs": [],
   "source": [
    "X_train = X_train / 255 # normalize training data\n",
    "X_test = X_test / 255 # normalize test data"
   ]
  },
  {
   "cell_type": "markdown",
   "metadata": {},
   "source": [
    "Next, let's convert the target variable into binary categories\n"
   ]
  },
  {
   "cell_type": "code",
   "execution_count": 6,
   "metadata": {
    "ExecuteTime": {
     "end_time": "2024-05-28T20:39:04.270810Z",
     "start_time": "2024-05-28T20:39:04.249873Z"
    }
   },
   "outputs": [],
   "source": [
    "y_train = to_categorical(y_train)\n",
    "y_test = to_categorical(y_test)\n",
    "\n",
    "num_classes = y_test.shape[1] # number of categories"
   ]
  },
  {
   "cell_type": "markdown",
   "metadata": {},
   "source": [
    "Next, let's define a function that creates our model. Let's start with one set of convolutional and pooling layers.\n"
   ]
  },
  {
   "cell_type": "code",
   "execution_count": 7,
   "metadata": {
    "ExecuteTime": {
     "end_time": "2024-05-28T20:39:05.355312Z",
     "start_time": "2024-05-28T20:39:05.348913Z"
    }
   },
   "outputs": [],
   "source": [
    "def convolutional_model():\n",
    "    \n",
    "    # create model\n",
    "    model = Sequential()\n",
    "    model.add(Conv2D(16, (5, 5), strides=(1, 1), activation='relu', input_shape=(28, 28, 1)))\n",
    "    model.add(MaxPooling2D(pool_size=(2, 2), strides=(2, 2)))\n",
    "    \n",
    "    model.add(Flatten())\n",
    "    model.add(Dense(100, activation='relu'))\n",
    "    model.add(Dense(num_classes, activation='softmax'))\n",
    "    \n",
    "    # compile model\n",
    "    model.compile(optimizer='adam', loss='categorical_crossentropy',  metrics=['accuracy'])\n",
    "    return model"
   ]
  },
  {
   "cell_type": "markdown",
   "metadata": {},
   "source": [
    "Finally, let's call the function to create the model, and then let's train it and evaluate it.\n"
   ]
  },
  {
   "cell_type": "code",
   "execution_count": 8,
   "metadata": {
    "ExecuteTime": {
     "end_time": "2024-05-28T20:40:55.190104Z",
     "start_time": "2024-05-28T20:39:06.355562Z"
    }
   },
   "outputs": [
    {
     "name": "stderr",
     "output_type": "stream",
     "text": [
      "/opt/anaconda3/envs/tensorflow/lib/python3.11/site-packages/keras/src/layers/convolutional/base_conv.py:107: UserWarning: Do not pass an `input_shape`/`input_dim` argument to a layer. When using Sequential models, prefer using an `Input(shape)` object as the first layer in the model instead.\n",
      "  super().__init__(activity_regularizer=activity_regularizer, **kwargs)\n"
     ]
    },
    {
     "name": "stdout",
     "output_type": "stream",
     "text": [
      "Epoch 1/10\n",
      "300/300 - 11s - 36ms/step - accuracy: 0.9187 - loss: 0.2941 - val_accuracy: 0.9679 - val_loss: 0.1040\n",
      "Epoch 2/10\n",
      "300/300 - 9s - 31ms/step - accuracy: 0.9746 - loss: 0.0860 - val_accuracy: 0.9802 - val_loss: 0.0634\n",
      "Epoch 3/10\n",
      "300/300 - 9s - 32ms/step - accuracy: 0.9829 - loss: 0.0584 - val_accuracy: 0.9834 - val_loss: 0.0508\n",
      "Epoch 4/10\n",
      "300/300 - 10s - 33ms/step - accuracy: 0.9869 - loss: 0.0442 - val_accuracy: 0.9834 - val_loss: 0.0483\n",
      "Epoch 5/10\n",
      "300/300 - 10s - 32ms/step - accuracy: 0.9888 - loss: 0.0369 - val_accuracy: 0.9872 - val_loss: 0.0403\n",
      "Epoch 6/10\n",
      "300/300 - 10s - 32ms/step - accuracy: 0.9910 - loss: 0.0302 - val_accuracy: 0.9869 - val_loss: 0.0383\n",
      "Epoch 7/10\n",
      "300/300 - 9s - 30ms/step - accuracy: 0.9927 - loss: 0.0243 - val_accuracy: 0.9884 - val_loss: 0.0373\n",
      "Epoch 8/10\n",
      "300/300 - 10s - 33ms/step - accuracy: 0.9939 - loss: 0.0208 - val_accuracy: 0.9872 - val_loss: 0.0399\n",
      "Epoch 9/10\n",
      "300/300 - 13s - 42ms/step - accuracy: 0.9947 - loss: 0.0172 - val_accuracy: 0.9888 - val_loss: 0.0367\n",
      "Epoch 10/10\n",
      "300/300 - 18s - 59ms/step - accuracy: 0.9962 - loss: 0.0133 - val_accuracy: 0.9879 - val_loss: 0.0397\n",
      "Accuracy: 0.9879000186920166 \n",
      " Error: 1.2099981307983398\n"
     ]
    }
   ],
   "source": [
    "# build the model\n",
    "model = convolutional_model()\n",
    "\n",
    "# fit the model\n",
    "model.fit(X_train, y_train, validation_data=(X_test, y_test), epochs=10, batch_size=200, verbose=2)\n",
    "\n",
    "# evaluate the model\n",
    "scores = model.evaluate(X_test, y_test, verbose=0)\n",
    "print(\"Accuracy: {} \\n Error: {}\".format(scores[1], 100-scores[1]*100))"
   ]
  },
  {
   "cell_type": "markdown",
   "metadata": {},
   "source": [
    "------------------------------------------\n"
   ]
  },
  {
   "cell_type": "markdown",
   "metadata": {},
   "source": [
    "<a id='item43'></a>\n"
   ]
  },
  {
   "cell_type": "markdown",
   "metadata": {},
   "source": [
    "## Convolutional Layer with two sets of convolutional and pooling layers\n"
   ]
  },
  {
   "cell_type": "markdown",
   "metadata": {},
   "source": [
    "Let's redefine our convolutional model so that it has two convolutional and pooling layers instead of just one layer of each.\n"
   ]
  },
  {
   "cell_type": "code",
   "execution_count": 9,
   "metadata": {
    "ExecuteTime": {
     "end_time": "2024-05-28T20:53:23.050358Z",
     "start_time": "2024-05-28T20:53:23.043062Z"
    }
   },
   "outputs": [],
   "source": [
    "def convolutional_model():\n",
    "    \n",
    "    # create model\n",
    "    model = Sequential()\n",
    "    model.add(Conv2D(16, (5, 5), activation='relu', input_shape=(28, 28, 1)))\n",
    "    #add a 2D max pool layer with a stride of 2\n",
    "    model.add(MaxPooling2D(pool_size=(2, 2),strides=(2, 2)))\n",
    "    #add a conv layer of size 8 with a kernel of side 2\n",
    "    model.add(Conv2D(8, (2, 2), activation='relu'))\n",
    "    model.add(MaxPooling2D(pool_size=(2, 2), strides=(2, 2)))\n",
    "    \n",
    "    model.add(Flatten())\n",
    "    #add a dense layer with 100 neurons\n",
    "    model.add(Dense(100, activation='relu'))\n",
    "    #add a final layer and all its necessary components\n",
    "    model.add(Dense(10, activation='softmax'))\n",
    "    \n",
    "    # Compile model\n",
    "    model.compile(optimizer='adam', loss='categorical_crossentropy',  metrics=['accuracy'])\n",
    "    return model"
   ]
  },
  {
   "cell_type": "markdown",
   "metadata": {},
   "source": [
    "Now, let's call the function to create our new convolutional neural network, and then let's train it and evaluate it.\n"
   ]
  },
  {
   "cell_type": "code",
   "execution_count": 10,
   "metadata": {
    "ExecuteTime": {
     "end_time": "2024-05-28T20:55:36.831776Z",
     "start_time": "2024-05-28T20:53:24.325276Z"
    }
   },
   "outputs": [
    {
     "name": "stdout",
     "output_type": "stream",
     "text": [
      "Epoch 1/10\n",
      "300/300 - 17s - 58ms/step - accuracy: 0.8647 - loss: 0.4695 - val_accuracy: 0.9540 - val_loss: 0.1501\n",
      "Epoch 2/10\n",
      "300/300 - 13s - 42ms/step - accuracy: 0.9613 - loss: 0.1275 - val_accuracy: 0.9706 - val_loss: 0.0927\n",
      "Epoch 3/10\n",
      "300/300 - 13s - 44ms/step - accuracy: 0.9736 - loss: 0.0864 - val_accuracy: 0.9755 - val_loss: 0.0789\n",
      "Epoch 4/10\n",
      "300/300 - 13s - 42ms/step - accuracy: 0.9782 - loss: 0.0694 - val_accuracy: 0.9830 - val_loss: 0.0545\n",
      "Epoch 5/10\n",
      "300/300 - 13s - 42ms/step - accuracy: 0.9810 - loss: 0.0596 - val_accuracy: 0.9849 - val_loss: 0.0488\n",
      "Epoch 6/10\n",
      "300/300 - 13s - 42ms/step - accuracy: 0.9840 - loss: 0.0516 - val_accuracy: 0.9824 - val_loss: 0.0539\n",
      "Epoch 7/10\n",
      "300/300 - 13s - 42ms/step - accuracy: 0.9859 - loss: 0.0459 - val_accuracy: 0.9865 - val_loss: 0.0447\n",
      "Epoch 8/10\n",
      "300/300 - 12s - 41ms/step - accuracy: 0.9871 - loss: 0.0411 - val_accuracy: 0.9871 - val_loss: 0.0416\n",
      "Epoch 9/10\n",
      "300/300 - 13s - 42ms/step - accuracy: 0.9880 - loss: 0.0382 - val_accuracy: 0.9880 - val_loss: 0.0387\n",
      "Epoch 10/10\n",
      "300/300 - 12s - 42ms/step - accuracy: 0.9889 - loss: 0.0360 - val_accuracy: 0.9894 - val_loss: 0.0346\n",
      "Accuracy: 0.9894000291824341 \n",
      " Error: 1.0599970817565918\n"
     ]
    }
   ],
   "source": [
    "# build the model\n",
    "model = convolutional_model()\n",
    "\n",
    "# fit the model\n",
    "model.fit(X_train, y_train, validation_data=(X_test, y_test), epochs=10, batch_size=200, verbose=2)\n",
    "\n",
    "# evaluate the model\n",
    "scores = model.evaluate(X_test, y_test, verbose=0)\n",
    "print(\"Accuracy: {} \\n Error: {}\".format(scores[1], 100-scores[1]*100))"
   ]
  },
  {
   "cell_type": "markdown",
   "metadata": {},
   "source": [
    "### Thank you for completing this lab!"
   ]
  }
 ],
 "metadata": {
  "kernelspec": {
   "display_name": "Python 3",
   "language": "python",
   "name": "python3"
  },
  "language_info": {
   "codemirror_mode": {
    "name": "ipython",
    "version": 3
   },
   "file_extension": ".py",
   "mimetype": "text/x-python",
   "name": "python",
   "nbconvert_exporter": "python",
   "pygments_lexer": "ipython3",
   "version": "3.8.5"
  },
  "toc": {
   "base_numbering": 1,
   "nav_menu": {},
   "number_sections": true,
   "sideBar": true,
   "skip_h1_title": false,
   "title_cell": "Table of Contents",
   "title_sidebar": "Contents",
   "toc_cell": true,
   "toc_position": {},
   "toc_section_display": true,
   "toc_window_display": false
  },
  "varInspector": {
   "cols": {
    "lenName": 16,
    "lenType": 16,
    "lenVar": 40
   },
   "kernels_config": {
    "python": {
     "delete_cmd_postfix": "",
     "delete_cmd_prefix": "del ",
     "library": "var_list.py",
     "varRefreshCmd": "print(var_dic_list())"
    },
    "r": {
     "delete_cmd_postfix": ") ",
     "delete_cmd_prefix": "rm(",
     "library": "var_list.r",
     "varRefreshCmd": "cat(var_dic_list()) "
    }
   },
   "types_to_exclude": [
    "module",
    "function",
    "builtin_function_or_method",
    "instance",
    "_Feature"
   ],
   "window_display": false
  }
 },
 "nbformat": 4,
 "nbformat_minor": 4
}
